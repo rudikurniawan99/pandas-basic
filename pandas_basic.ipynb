{
 "cells": [
  {
   "cell_type": "markdown",
   "metadata": {},
   "source": [
    "### Pandas Comprehension\n",
    "try to breakdown pandas from the basic, timeline only in single week"
   ]
  },
  {
   "cell_type": "code",
   "execution_count": null,
   "metadata": {},
   "outputs": [
    {
     "data": {
      "text/plain": [
       "'2.2.3'"
      ]
     },
     "execution_count": 1,
     "metadata": {},
     "output_type": "execute_result"
    }
   ],
   "source": [
    "import pandas as pd\n",
    "import seaborn as sns\n"
   ]
  },
  {
   "cell_type": "code",
   "execution_count": null,
   "metadata": {},
   "outputs": [
    {
     "name": "stdout",
     "output_type": "stream",
     "text": [
      "<class 'pandas.core.frame.DataFrame'>\n",
      "RangeIndex: 374853 entries, 0 to 374852\n",
      "Data columns (total 11 columns):\n",
      " #   Column       Non-Null Count   Dtype \n",
      "---  ------       --------------   ----- \n",
      " 0   ID           374853 non-null  int64 \n",
      " 1   Name         374853 non-null  object\n",
      " 2   Category     374853 non-null  object\n",
      " 3   Subcategory  374853 non-null  object\n",
      " 4   Country      374853 non-null  object\n",
      " 5   Launched     374853 non-null  object\n",
      " 6   Deadline     374853 non-null  object\n",
      " 7   Goal         374853 non-null  int64 \n",
      " 8   Pledged      374853 non-null  int64 \n",
      " 9   Backers      374853 non-null  int64 \n",
      " 10  State        374853 non-null  object\n",
      "dtypes: int64(4), object(7)\n",
      "memory usage: 31.5+ MB\n"
     ]
    }
   ],
   "source": [
    "df = pd.read_csv('dataset/Kickstarter+Projects/kickstarter_projects.csv')\n",
    "df.head()"
   ]
  }
 ],
 "metadata": {
  "kernelspec": {
   "display_name": ".venv",
   "language": "python",
   "name": "python3"
  },
  "language_info": {
   "codemirror_mode": {
    "name": "ipython",
    "version": 3
   },
   "file_extension": ".py",
   "mimetype": "text/x-python",
   "name": "python",
   "nbconvert_exporter": "python",
   "pygments_lexer": "ipython3",
   "version": "3.12.7"
  }
 },
 "nbformat": 4,
 "nbformat_minor": 2
}
