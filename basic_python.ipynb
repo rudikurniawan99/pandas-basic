{
 "cells": [
  {
   "cell_type": "markdown",
   "metadata": {},
   "source": [
    "# Basic Python\n",
    "This is going to be journery of learning python from the very beginning, \n",
    "the purpose of learning this is to increase my **level of learning** \n",
    "it's going to become my journey of learning and fixing my brain problem."
   ]
  },
  {
   "cell_type": "markdown",
   "metadata": {},
   "source": [
    "### Python variable and data types\n",
    "python has couple data types  \n",
    "  \n",
    "1. primitive data types: \n",
    "   1. integers\n",
    "   2. float\n",
    "   3. string\n",
    "   4. bool\n",
    "2. composite data types:\n",
    "   1. list\n",
    "   2. tupple\n",
    "   3. set\n",
    "   4. dictionaries"
   ]
  },
  {
   "cell_type": "code",
   "execution_count": 3,
   "metadata": {},
   "outputs": [
    {
     "name": "stdout",
     "output_type": "stream",
     "text": [
      "<class 'float'>\n",
      "<class 'float'>\n",
      "<class 'int'>\n"
     ]
    }
   ],
   "source": [
    "# Primitive Datatype \n",
    "# integer datatype\n",
    "row = 7\n",
    "age = 25\n",
    "\n",
    "# float datatype\n",
    "phi = 3.14\n",
    "height = 182.5\n",
    "print(type(height))\n",
    "print(type(12.0))\n",
    "print(type(12))\n",
    "\n",
    "# string datatype\n",
    "address = 'LA. US Gov'\n",
    "name = 'John'\n",
    "\n",
    "# bool datatype\n",
    "is_admin = True\n",
    "is_user = False\n",
    "is_married = False"
   ]
  },
  {
   "cell_type": "code",
   "execution_count": 4,
   "metadata": {},
   "outputs": [
    {
     "name": "stdout",
     "output_type": "stream",
     "text": [
      "atar\n",
      "atar\n",
      "kala\n",
      "(2+3j)\n"
     ]
    }
   ],
   "source": [
    "name1 = 'atar'\n",
    "name2 = name1\n",
    "print(name2)\n",
    "name2 = 'kala'\n",
    "print(name1)\n",
    "print(name2)\n",
    "math1 = 2 + 3j\n",
    "print(math1)\n"
   ]
  },
  {
   "cell_type": "code",
   "execution_count": 5,
   "metadata": {},
   "outputs": [
    {
     "name": "stdout",
     "output_type": "stream",
     "text": [
      "[7, True]\n",
      "None\n",
      "['a', 'b', 'c', 7]\n",
      "=======[tuple]========\n",
      "('a', 'd', 'c', 'a')\n",
      "a\n",
      "2\n",
      "=======[set]========\n",
      "{'c', 'a', 'b'}\n",
      "{'c', 'a', 'b'}\n"
     ]
    }
   ],
   "source": [
    "# Struct Datatype\n",
    "# List Datatype\n",
    "# -> a collection of data\n",
    "# -> ordered, you may access it, with index, and slice it\n",
    "list_of_name = ['a', 'b', 'c']\n",
    "list_of_multiple_data_type = ['a', 7, True]\n",
    "print(list_of_multiple_data_type[1:])\n",
    "print(list_of_name.append(7))\n",
    "print(list_of_name)\n",
    "list_of_name\n",
    "list_of_name.insert(2, 'cc')\n",
    "list_of_name\n",
    "\n",
    "# characteristic of list\n",
    "# -> mutable\n",
    "# -> ordered\n",
    "# -> indexed\n",
    "# -> may have multiple datatypes\n",
    "# -> has couple builtin function\n",
    "\n",
    "# Tuple datatypes\n",
    "# -> a collection of data unchangeable\n",
    "# -> ordered, you may access it with index, and slice it\n",
    "print('=======[tuple]========')\n",
    "tuple_of_name = ('a', 'd', 'c', 'a')\n",
    "print(tuple_of_name)\n",
    "print(tuple_of_name[0])\n",
    "print(tuple_of_name.count('a'))\n",
    "\n",
    "# Set datatype\n",
    "# -> a collection of data with unchangeable and no duplicate\n",
    "print('=======[set]========')\n",
    "set_of_names = {'a', 'b', 'c'}\n",
    "print(set_of_names)\n",
    "# try to create duplicate value on set\n",
    "set_of_names.add('a')\n",
    "print(set_of_names)\n",
    "\n",
    "# note:\n",
    "# - set is unordered\n",
    "# - when adding new value then automatically remove duplicate\n",
    "\n",
    "# Dictionary datatype\n",
    "# -> a collection of data with key and value\n",
    "# -> unordered\n",
    "# -> mutable\n",
    "my_identity = {\n",
    "  'name': 'a',\n",
    "  'age': 28,\n",
    "  'is_married': True\n",
    "}\n",
    "\n",
    "# problem solving technique, may not be understandabl by the category or something that being consider as new \n"
   ]
  },
  {
   "cell_type": "markdown",
   "metadata": {},
   "source": [
    "It' a markdow of  how I'm going to learn about programming, python programming"
   ]
  },
  {
   "cell_type": "code",
   "execution_count": 6,
   "metadata": {},
   "outputs": [],
   "source": [
    "# using python 3.7\n",
    "# make a public behavior that's actually making this become new one and more placeable, so nothing that we have gone wrong\n",
    "\n",
    "import os\n"
   ]
  },
  {
   "cell_type": "code",
   "execution_count": 20,
   "metadata": {},
   "outputs": [
    {
     "name": "stdout",
     "output_type": "stream",
     "text": [
      "a  =>  3\n",
      "{'a': 3, 'b': 2}\n",
      "dict_items([('a', 3), ('b', 2)])\n"
     ]
    }
   ],
   "source": [
    "# for statement exploration\n",
    "users = {\n",
    "  'a' : 3,\n",
    "  'b' : 2,\n",
    "}\n",
    "for user, usr in users.items():\n",
    "  if usr > 2 :\n",
    "    print(user, ' => ', usr)\n",
    "\n",
    "# the copy of an items\n",
    "users_copy = users.copy()\n",
    "print(users_copy)\n",
    "print(users_copy.items())"
   ]
  },
  {
   "cell_type": "markdown",
   "metadata": {},
   "source": [
    "## Python from the very beginning"
   ]
  }
 ],
 "metadata": {
  "kernelspec": {
   "display_name": ".venv",
   "language": "python",
   "name": "python3"
  },
  "language_info": {
   "codemirror_mode": {
    "name": "ipython",
    "version": 3
   },
   "file_extension": ".py",
   "mimetype": "text/x-python",
   "name": "python",
   "nbconvert_exporter": "python",
   "pygments_lexer": "ipython3",
   "version": "3.12.7"
  }
 },
 "nbformat": 4,
 "nbformat_minor": 2
}
