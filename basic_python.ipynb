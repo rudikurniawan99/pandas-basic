{
 "cells": [
  {
   "cell_type": "markdown",
   "metadata": {},
   "source": [
    "# Basic Python\n",
    "This is going to be journery of learning python from the very beginning, \n",
    "the purpose of learning this is to increase my **level of learning** \n",
    "it's going to become my journey of learning and fixing my brain problem."
   ]
  },
  {
   "cell_type": "markdown",
   "metadata": {},
   "source": [
    "### Python variable and data types\n",
    "python has couple data types  \n",
    "  \n",
    "1. primitive data types: \n",
    "   1. integers\n",
    "   2. float\n",
    "   3. string\n",
    "   4. bool\n",
    "2. composite data types:\n",
    "   1. list\n",
    "   2. tupple\n",
    "   3. set\n",
    "   4. dictionaries"
   ]
  },
  {
   "cell_type": "code",
   "execution_count": 1,
   "metadata": {},
   "outputs": [
    {
     "name": "stdout",
     "output_type": "stream",
     "text": [
      "<class 'float'>\n",
      "<class 'float'>\n",
      "<class 'int'>\n"
     ]
    }
   ],
   "source": [
    "# Primitive Datatype \n",
    "# integer datatype\n",
    "row = 7\n",
    "age = 25\n",
    "\n",
    "# float datatype\n",
    "phi = 3.14\n",
    "height = 182.5\n",
    "print(type(height))\n",
    "print(type(12.0))\n",
    "print(type(12))\n",
    "\n",
    "# string datatype\n",
    "address = 'LA. US Gov'\n",
    "name = 'John'\n",
    "\n",
    "# bool datatype\n",
    "is_admin = True\n",
    "is_user = False\n",
    "is_married = False"
   ]
  },
  {
   "cell_type": "code",
   "execution_count": 2,
   "metadata": {},
   "outputs": [
    {
     "name": "stdout",
     "output_type": "stream",
     "text": [
      "atar\n",
      "atar\n",
      "kala\n",
      "(2+3j)\n"
     ]
    }
   ],
   "source": [
    "name1 = 'atar'\n",
    "name2 = name1\n",
    "print(name2)\n",
    "name2 = 'kala'\n",
    "print(name1)\n",
    "print(name2)\n",
    "math1 = 2 + 3j\n",
    "print(math1)\n"
   ]
  },
  {
   "cell_type": "code",
   "execution_count": 3,
   "metadata": {},
   "outputs": [
    {
     "name": "stdout",
     "output_type": "stream",
     "text": [
      "[7, True]\n",
      "None\n",
      "['a', 'b', 'c', 7]\n",
      "=======[tuple]========\n",
      "('a', 'd', 'c', 'a')\n",
      "a\n",
      "2\n",
      "=======[set]========\n",
      "{'c', 'b', 'a'}\n",
      "{'c', 'b', 'a'}\n"
     ]
    }
   ],
   "source": [
    "# Struct Datatype\n",
    "# List Datatype\n",
    "# -> a collection of data\n",
    "# -> ordered, you may access it, with index, and slice it\n",
    "list_of_name = ['a', 'b', 'c']\n",
    "list_of_multiple_data_type = ['a', 7, True]\n",
    "print(list_of_multiple_data_type[1:])\n",
    "print(list_of_name.append(7))\n",
    "print(list_of_name)\n",
    "list_of_name\n",
    "list_of_name.insert(2, 'cc')\n",
    "list_of_name\n",
    "\n",
    "# characteristic of list\n",
    "# -> mutable\n",
    "# -> ordered\n",
    "# -> indexed\n",
    "# -> may have multiple datatypes\n",
    "# -> has couple builtin function\n",
    "\n",
    "# Tuple datatypes\n",
    "# -> a collection of data unchangeable\n",
    "# -> ordered, you may access it with index, and slice it\n",
    "print('=======[tuple]========')\n",
    "tuple_of_name = ('a', 'd', 'c', 'a')\n",
    "print(tuple_of_name)\n",
    "print(tuple_of_name[0])\n",
    "print(tuple_of_name.count('a'))\n",
    "\n",
    "# Set datatype\n",
    "# -> a collection of data with unchangeable and no duplicate\n",
    "print('=======[set]========')\n",
    "set_of_names = {'a', 'b', 'c'}\n",
    "print(set_of_names)\n",
    "# try to create duplicate value on set\n",
    "set_of_names.add('a')\n",
    "print(set_of_names)\n",
    "\n",
    "# note:\n",
    "# - set is unordered\n",
    "# - when adding new value then automatically remove duplicate\n",
    "\n",
    "# Dictionary datatype\n",
    "# -> a collection of data with key and value\n",
    "# -> unordered\n",
    "# -> mutable\n",
    "my_identity = {\n",
    "  'name': 'a',\n",
    "  'age': 28,\n",
    "  'is_married': True\n",
    "}\n",
    "\n",
    "# problem solving technique, may not be understandabl by the category or something that being consider as new \n"
   ]
  },
  {
   "cell_type": "markdown",
   "metadata": {},
   "source": [
    "Python Data Structure"
   ]
  },
  {
   "cell_type": "code",
   "execution_count": 4,
   "metadata": {},
   "outputs": [
    {
     "name": "stdout",
     "output_type": "stream",
     "text": [
      "[1, 2, 3, 4, 5, 6, True, False, 'hello', 'world']\n",
      "<class 'tuple'>\n"
     ]
    },
    {
     "data": {
      "text/plain": [
       "('a', 'b', 'c')"
      ]
     },
     "execution_count": 4,
     "metadata": {},
     "output_type": "execute_result"
    }
   ],
   "source": [
    "# python data structure\n",
    "# list\n",
    "list_var = [1,2,3,4,5,6, True, False, \"hello\", \"world\"]\n",
    "print(list_var)\n",
    "list_var[3:]\n",
    "# '''\n",
    "# characteristic:\n",
    "# 1. may have multiple data types\n",
    "# 2. ordered\n",
    "# 3. mutable\n",
    "# 4. indexed\n",
    "# 5. can be nested\n",
    "# 6. can be sliced\n",
    "\n",
    "# '''\n",
    "\n",
    "# tuple\n",
    "t = 'a', 'b', 'c'\n",
    "print(type(t))\n",
    "t[1:]\n",
    "tt = ('dddd', 'eee')\n",
    "t.__add__(tt)\n",
    "t\n"
   ]
  },
  {
   "cell_type": "markdown",
   "metadata": {},
   "source": [
    "It' a markdow of  how I'm going to learn about programming, python programming"
   ]
  },
  {
   "cell_type": "code",
   "execution_count": 5,
   "metadata": {},
   "outputs": [],
   "source": [
    "# using python 3.7\n",
    "# make a public behavior that's actually making this become new one and more placeable, so nothing that we have gone wrong\n",
    "\n",
    "import os\n"
   ]
  },
  {
   "cell_type": "code",
   "execution_count": 6,
   "metadata": {},
   "outputs": [
    {
     "name": "stdout",
     "output_type": "stream",
     "text": [
      "a  =>  3\n",
      "{'a': 3, 'b': 2}\n",
      "dict_items([('a', 3), ('b', 2)])\n"
     ]
    }
   ],
   "source": [
    "# for statement exploration\n",
    "users = {\n",
    "  'a' : 3,\n",
    "  'b' : 2,\n",
    "}\n",
    "for user, usr in users.items():\n",
    "  if usr > 2 :\n",
    "    print(user, ' => ', usr)\n",
    "\n",
    "# the copy of an items\n",
    "users_copy = users.copy()\n",
    "print(users_copy)\n",
    "print(users_copy.items())"
   ]
  },
  {
   "cell_type": "markdown",
   "metadata": {},
   "source": [
    "## Python from the very beginning"
   ]
  },
  {
   "cell_type": "code",
   "execution_count": 7,
   "metadata": {},
   "outputs": [
    {
     "name": "stdout",
     "output_type": "stream",
     "text": [
      "my name is ahmad\n",
      "my name is dandi\n",
      "my name is maria\n",
      "my name is theodore\n",
      "Yo bro, Hi, nice to meet you, I'm sukoco\n",
      "first name: John, last name: Ackerman\n"
     ]
    }
   ],
   "source": [
    "# define function in python\n",
    "names = ['ahmad', 'dandi', 'maria', 'theodore', 2,3,44]\n",
    "def spell_name(name: str) -> None:\n",
    "  print(f'my name is {name}')\n",
    "\n",
    "for name in names:\n",
    "  if type(name) == str:\n",
    "    spell_name(name)\n",
    "# using list, function, and for loops\n",
    "# func with default value\n",
    "def greet(name: str, msg: str = 'Hi, nice to meet you') -> None:\n",
    "  print(f'Yo bro, {msg}, I\\'m {name}')\n",
    "greet('sukoco')\n",
    "\n",
    "#func that return mutltiple value\n",
    "def separate_name(name: str) -> (str, str):\n",
    "  names = name.split()\n",
    "  return names[0], names[-1]\n",
    "\n",
    "first_name, last_name = separate_name('John Doe Ackerman')\n",
    "print(f'first name: {first_name}, last name: {last_name}')"
   ]
  },
  {
   "cell_type": "markdown",
   "metadata": {},
   "source": [
    "### Python from the basic\n",
    "source for the tutorial  \n",
    "[source](pythoncheatsheet.org)"
   ]
  },
  {
   "cell_type": "code",
   "execution_count": 8,
   "metadata": {},
   "outputs": [
    {
     "name": "stdout",
     "output_type": "stream",
     "text": [
      "Nikola Tesla\n"
     ]
    },
    {
     "data": {
      "text/plain": [
       "'Nikola Tesla'"
      ]
     },
     "execution_count": 8,
     "metadata": {},
     "output_type": "execute_result"
    }
   ],
   "source": [
    "# walrus operator \n",
    "# assign value to variable through expression\n",
    "print(name := 'Nikola Tesla')\n",
    "name"
   ]
  },
  {
   "cell_type": "code",
   "execution_count": 9,
   "metadata": {},
   "outputs": [
    {
     "data": {
      "text/plain": [
       "[{'name': 'john', 'age': 20}, {'name': 'robert', 'age': 22}]"
      ]
     },
     "execution_count": 9,
     "metadata": {},
     "output_type": "execute_result"
    }
   ],
   "source": [
    "students = [\n",
    "  {\n",
    "    'name': 'john',\n",
    "    'age': 20,\n",
    "  },\n",
    "  {\n",
    "    'name': 'robert',\n",
    "    'age': 22\n",
    "  },\n",
    "  {\n",
    "    'name': 'jonah',\n",
    "    'age': 17\n",
    "  }\n",
    "]\n",
    "\n",
    "aged_student = list(filter(lambda x: x['age'] > 18, students))\n",
    "aged_student"
   ]
  },
  {
   "cell_type": "markdown",
   "metadata": {},
   "source": [
    "Python OOP\n",
    "we are going to learn everything about python oop"
   ]
  },
  {
   "cell_type": "code",
   "execution_count": 10,
   "metadata": {},
   "outputs": [
    {
     "name": "stdout",
     "output_type": "stream",
     "text": [
      "Hello I'm luffy, and 19 years old, and I'm a Gender.MALE\n"
     ]
    },
    {
     "ename": "AttributeError",
     "evalue": "'Student' object has no attribute '_email'",
     "output_type": "error",
     "traceback": [
      "\u001b[0;31m---------------------------------------------------------------------------\u001b[0m",
      "\u001b[0;31mAttributeError\u001b[0m                            Traceback (most recent call last)",
      "Cell \u001b[0;32mIn[10], line 26\u001b[0m\n\u001b[1;32m     20\u001b[0m student1 \u001b[38;5;241m=\u001b[39m Student(\n\u001b[1;32m     21\u001b[0m   \u001b[38;5;124m'\u001b[39m\u001b[38;5;124mluffy\u001b[39m\u001b[38;5;124m'\u001b[39m,\n\u001b[1;32m     22\u001b[0m   Gender\u001b[38;5;241m.\u001b[39mMALE,\n\u001b[1;32m     23\u001b[0m   \u001b[38;5;241m19\u001b[39m\n\u001b[1;32m     24\u001b[0m )\n\u001b[1;32m     25\u001b[0m student1\u001b[38;5;241m.\u001b[39mintroduce()\n\u001b[0;32m---> 26\u001b[0m \u001b[43mstudent1\u001b[49m\u001b[38;5;241;43m.\u001b[39;49m\u001b[43mget_email\u001b[49m\u001b[43m(\u001b[49m\u001b[43m)\u001b[49m\n",
      "Cell \u001b[0;32mIn[10], line 18\u001b[0m, in \u001b[0;36mStudent.get_email\u001b[0;34m(self)\u001b[0m\n\u001b[1;32m     17\u001b[0m \u001b[38;5;28;01mdef\u001b[39;00m \u001b[38;5;21mget_email\u001b[39m(\u001b[38;5;28mself\u001b[39m) \u001b[38;5;241m-\u001b[39m\u001b[38;5;241m>\u001b[39m \u001b[38;5;28mstr\u001b[39m: \n\u001b[0;32m---> 18\u001b[0m   \u001b[38;5;28;01mreturn\u001b[39;00m \u001b[38;5;28;43mself\u001b[39;49m\u001b[38;5;241;43m.\u001b[39;49m\u001b[43m_email\u001b[49m\n",
      "\u001b[0;31mAttributeError\u001b[0m: 'Student' object has no attribute '_email'"
     ]
    }
   ],
   "source": [
    "from enum import Enum\n",
    "\n",
    "class Gender(Enum):\n",
    "  MALE = 'male'\n",
    "  FEMALE = 'female'\n",
    "\n",
    "# python oop\n",
    "class Student:\n",
    "  def __init__(self, name: str, gender: Gender, age: int):\n",
    "    self.name = name\n",
    "    self.gender = gender\n",
    "    self.age = age\n",
    "  def introduce(self):\n",
    "    print(f'Hello I\\'m {self.name}, and {self.age} years old, and I\\'m a {self.gender}')\n",
    "  def set_email(self, email: str):\n",
    "    self._email = email\n",
    "  def get_email(self) -> str: \n",
    "    return self._email\n",
    "\n",
    "student1 = Student(\n",
    "  'luffy',\n",
    "  Gender.MALE,\n",
    "  19\n",
    ")\n",
    "student1.introduce()\n",
    "student1.get_email()\n"
   ]
  },
  {
   "cell_type": "code",
   "execution_count": null,
   "metadata": {},
   "outputs": [
    {
     "name": "stdout",
     "output_type": "stream",
     "text": [
      "=======[Bank XXX]=======\n",
      "ID      : c91dc695d24646a58b296333cd008983\n",
      "Name    : rudi\n",
      "Amount  : 500 $\n",
      "========================\n"
     ]
    }
   ],
   "source": [
    "import uuid \n",
    "\n",
    "class BankAccountIdentity():\n",
    "  def __init__(self, name, email, password):\n",
    "    self._name = name\n",
    "    self.__id = uuid.uuid4()\n",
    "    self.__email = email\n",
    "    self.__password = password\n",
    "  def get_id(self):\n",
    "    return str(self.__id).replace('-', '')\n",
    "    \n",
    "\n",
    "class BankAccount():\n",
    "  balance_withdraw_cost = 2\n",
    "  def __init__(self, balance, identity: BankAccountIdentity):\n",
    "    self.__balance = balance\n",
    "    self._identity = identity\n",
    "\n",
    "  def deposit(self, amount):\n",
    "    self.__balance += amount\n",
    "  \n",
    "  def withdraw(self, amount):\n",
    "    if (amount + self.balance_withdraw_cost) > self.__balance:\n",
    "      print(\"Insufficient balance\")\n",
    "    else:\n",
    "      self.__balance -= amount\n",
    "  def display_balance(self):\n",
    "    print('=======[Bank XXX]=======')\n",
    "    print(f'ID      : {self._identity.get_id()}')\n",
    "    print(f'Name    : {self._identity._name}')\n",
    "    print(f'Amount  : {self.__balance} $')\n",
    "    print('========================')\n",
    "\n",
    "rk_account = BankAccount(500, BankAccountIdentity(\n",
    "  'rudi',\n",
    "  'rudikurniawan501@gmail.com',\n",
    "  'www.www'\n",
    "))\n",
    "rk_account.display_balance()\n"
   ]
  },
  {
   "cell_type": "code",
   "execution_count": null,
   "metadata": {},
   "outputs": [
    {
     "name": "stdout",
     "output_type": "stream",
     "text": [
      "ruka\n",
      "23\n",
      "23\n",
      "dd\n"
     ]
    }
   ],
   "source": [
    "# # python mutable and immutability\n",
    "# name = 'rk'\n",
    "# # print(name)\n",
    "# # name[1] = 't'\n",
    "# # print(name)\n",
    "\n",
    "# # object mutability test\n",
    "# class Student():\n",
    "#   def __init__(self, name, age):\n",
    "#     self._name = name\n",
    "#     self.age = age\n",
    "\n",
    "# rk = Student('ruka', 23)\n",
    "# print(rk._name)\n",
    "# print(rk.age)\n",
    "# rk._name = 'dd'\n",
    "\n",
    "# print(rk.age)\n",
    "# print(rk._name)"
   ]
  },
  {
   "cell_type": "code",
   "execution_count": null,
   "metadata": {},
   "outputs": [],
   "source": [
    "# # back to the very basic about learning python, in this section we are going to learn about python once again from the very beginning\n",
    "# from uuid import uuid4\n",
    "\n",
    "# class BankAccount():\n",
    "#   # att: account_number, amount \n",
    "#   # method: __init__, deposit, withdraw, check_balance\n",
    "#   def __init__(self, amount: int):\n",
    "#     self.account_number = uuid4()\n",
    "#     if amount > 0: \n",
    "#       self._amount = amount\n",
    "#     else:\n",
    "#       self._amount = 0\n",
    "\n",
    "#   def deposit(self, amount):\n",
    "#     self._amount += amount\n",
    "  \n",
    "#   def withdraw(self, amount):\n",
    "#     if amount > self._amount:\n",
    "#       self._amount -= amount\n",
    "#     else:\n",
    "#       print(\"Insufficient balance\")\n",
    "\n",
    "#   def check_balance(self):\n",
    "#     print('===========[]===========')\n",
    "#     print(f'account number : {self.account_number}')\n",
    "#     print(f'balance        : {self._amount}')\n",
    "#     print('========================')\n",
    "\n",
    "#   def get_account_number(self):\n",
    "#     return self.account_number\n",
    "\n",
    "# class Customer():\n",
    "#   # att: name, age, address, customer_id, \n",
    "#   # method: __init__, display_details, add_account, display_account\n",
    "#   def __init__(self, name: str, age: int, address: str):\n",
    "#     self.name = name\n",
    "#     self.age = age\n",
    "#     self._address = address\n",
    "#     self.__customer_id = uuid4()\n",
    "#     self.__accounts = []\n",
    "\n",
    "#   def add_account(self, account: BankAccount):\n",
    "#     self.__accounts.append(account)\n",
    "  \n",
    "#   def show_accounts(self):\n",
    "#     print('===========[]===========')\n",
    "#     for account in self.__accounts:\n",
    "#       print(f'account number : {str(account.account_number).replace('-',' ')}')\n",
    "#       print(f'balance        : {account._amount}')\n",
    "#       print('------------------------')\n",
    "#     print('========================')\n",
    "  "
   ]
  },
  {
   "cell_type": "code",
   "execution_count": null,
   "metadata": {},
   "outputs": [
    {
     "name": "stdout",
     "output_type": "stream",
     "text": [
      "===========[]===========\n",
      "account number : 2fed8cc5 17c0 4cd6 a18c 4bfef337b801\n",
      "balance        : 100\n",
      "------------------------\n",
      "account number : 39a2834f 7cc6 439d 8296 39db22866ada\n",
      "balance        : 300\n",
      "------------------------\n",
      "========================\n"
     ]
    }
   ],
   "source": [
    "# cust1 = Customer(\n",
    "#   'John',\n",
    "#   23,\n",
    "#   'Manhatan, stree 57, St view'\n",
    "# )\n",
    "\n",
    "# cust1.add_account(\n",
    "#   BankAccount(100)\n",
    "# )\n",
    "# cust1.add_account(\n",
    "#   BankAccount(300)\n",
    "# )\n",
    "# cust1.show_accounts()"
   ]
  },
  {
   "cell_type": "code",
   "execution_count": null,
   "metadata": {},
   "outputs": [],
   "source": [
    "# class BankAccount():\n",
    "#   def __init__(self, balance):\n",
    "#     self._account_number = uuid4()\n",
    "\n",
    "#     if balance > 0:\n",
    "#       self._balance = balance\n",
    "#     else: \n",
    "#       self._balance = 0\n",
    "\n",
    "# class Customer():\n",
    "#   def __init__(self, name):\n",
    "#     self.name = name\n",
    "#     self._accounts = [BankAccount]\n",
    "\n",
    "#   def add_account(self, account: BankAccount):\n",
    "#     self._accounts.append(account)\n",
    "\n",
    "#   # def che \n",
    "# class Bank():\n",
    "#   def __init__(self, name):\n",
    "#     self.name = name\n",
    "#     self.customer = [Customer]\n",
    "\n",
    "#   def add_customer(self, customer: Customer):\n",
    "#     self.customer.append(customer)"
   ]
  },
  {
   "cell_type": "code",
   "execution_count": null,
   "metadata": {},
   "outputs": [],
   "source": [
    "# # create banks\n",
    "# # jago bank\n",
    "# jago_bank = Bank('Jago')\n",
    "# bri_bank = Bank('Bank Rakyat Indonesia')\n",
    "# mandiri_bank = Bank('Bank Mandiri')\n",
    "\n",
    "# # add customers\n",
    "# # create customer\n",
    "# cus1 = Customer('Lila')\n",
    "\n",
    "# bri_bank.add_customer(cus1)"
   ]
  },
  {
   "cell_type": "code",
   "execution_count": null,
   "metadata": {},
   "outputs": [],
   "source": [
    "#  function for bank system\n"
   ]
  },
  {
   "cell_type": "code",
   "execution_count": null,
   "metadata": {},
   "outputs": [],
   "source": [
    "# # bank system\n",
    "# # entity : person, bank, customer, account, transaction\n",
    "# class Person:\n",
    "#   def __init__(self, name):\n",
    "#     self.name = name\n",
    "  \n",
    "# class Bank:\n",
    "#   def __init__(self, name: str, bank_code: str):\n",
    "#     self.__name = name\n",
    "#     self.__code = bank_code\n",
    "  \n",
    "#   def display_bank(self):\n",
    "#     print(f\"Bank Name : {self.__name}\")\n",
    "#     print(f\"Code      : {self.get_code()}\")\n",
    "  \n",
    "#   def get_code(self):\n",
    "#     return self.__code\n",
    "\n",
    "# class CentralBank:\n",
    "#   def __init__(self):\n",
    "#     self.banks = []\n",
    "#     self.codes = []\n",
    "\n",
    "#   def add_bank(self, bank: Bank):\n",
    "#     if bank.__code in self.codes:\n",
    "#       print(f'code :\\'{bank.get_code()}\\'')\n",
    "#       print('code already exist, try another!')\n",
    "#     else:\n",
    "#       self.codes.append(bank.get_code)\n",
    "#       self.banks.append(bank)\n",
    "\n",
    "#   def display_all_bank(self):\n",
    "#     print('========[Banks]========')\n",
    "#     for bank in self.banks:\n",
    "#       bank.display_bank()\n",
    "#     print('=======================')"
   ]
  },
  {
   "cell_type": "code",
   "execution_count": null,
   "metadata": {},
   "outputs": [
    {
     "ename": "NameError",
     "evalue": "name 'CentralBank' is not defined",
     "output_type": "error",
     "traceback": [
      "\u001b[0;31m---------------------------------------------------------------------------\u001b[0m",
      "\u001b[0;31mNameError\u001b[0m                                 Traceback (most recent call last)",
      "Cell \u001b[0;32mIn[12], line 2\u001b[0m\n\u001b[1;32m      1\u001b[0m \u001b[38;5;66;03m# create central bank\u001b[39;00m\n\u001b[0;32m----> 2\u001b[0m bi \u001b[38;5;241m=\u001b[39m \u001b[43mCentralBank\u001b[49m()\n\u001b[1;32m      3\u001b[0m \u001b[38;5;66;03m# add banks\u001b[39;00m\n\u001b[1;32m      4\u001b[0m bi\u001b[38;5;241m.\u001b[39madd_bank(Bank(\n\u001b[1;32m      5\u001b[0m   \u001b[38;5;124m'\u001b[39m\u001b[38;5;124mBank Rakyat Indonesia\u001b[39m\u001b[38;5;124m'\u001b[39m,\n\u001b[1;32m      6\u001b[0m   \u001b[38;5;124m'\u001b[39m\u001b[38;5;124mBRI\u001b[39m\u001b[38;5;124m'\u001b[39m,\n\u001b[1;32m      7\u001b[0m ))\n",
      "\u001b[0;31mNameError\u001b[0m: name 'CentralBank' is not defined"
     ]
    }
   ],
   "source": [
    "# # create central bank\n",
    "# bi = CentralBank()\n",
    "# # add banks\n",
    "# bi.add_bank(Bank(\n",
    "#   'Bank Rakyat Indonesia',\n",
    "#   'BRI',\n",
    "# ))\n",
    "# bi.add_bank(Bank(\n",
    "#   'Bank Mandiri',\n",
    "#   'MRI',\n",
    "# ))\n",
    "# bi.add_bank(Bank(\n",
    "#   'Bank Central Asia',\n",
    "#   'BCA'\n",
    "# ))\n",
    "\n",
    "# bi.display_all_bank()\n",
    "\n",
    "# bank_bca = Bank(\n",
    "#   name='Bank Central Asia',\n",
    "#   bank_code='BCA'\n",
    "# )\n",
    "\n",
    "# bank_bca.__name = 'Bank Rakyat Indonesia'\n",
    "# bank_bca.display_bank()\n",
    "\n",
    "\n",
    "\n"
   ]
  },
  {
   "cell_type": "code",
   "execution_count": 14,
   "metadata": {},
   "outputs": [
    {
     "name": "stdout",
     "output_type": "stream",
     "text": [
      "test\n"
     ]
    }
   ],
   "source": [
    "print('test')"
   ]
  },
  {
   "cell_type": "code",
   "execution_count": null,
   "metadata": {},
   "outputs": [
    {
     "name": "stdout",
     "output_type": "stream",
     "text": [
      "name: rudi\n",
      "bank: Bank BRI\n",
      "id  : fd21b7bf-f90e-4f0c-be5b-f03718964227\n",
      "---------------------------\n",
      "name: rudi\n",
      "bank: Bank BCA\n",
      "id  : 7e57d9ca-5142-4730-b399-0f6116f55f77\n",
      "---------------------------\n",
      "name: rudi\n",
      "bank: Bank Mandiri\n",
      "id  : 91610667-d6b1-4571-a253-f50c12ffe6e7\n",
      "---------------------------\n"
     ]
    }
   ],
   "source": [
    "# start from the very beginning\n",
    "from uuid import uuid4\n",
    "\n",
    "class Bank:\n",
    "  def __init__(self, name: str):\n",
    "    self.name = name\n",
    "\n",
    "class BankAccount:\n",
    "  def __init__(self, bank: Bank):\n",
    "    self._account_number = uuid4()\n",
    "    self.bank = bank\n",
    "    self.balance = 0\n",
    "\n",
    "  def deposit(self, amount):\n",
    "    self.balance += amount\n",
    "\n",
    "  def withdraw(self, amount):\n",
    "    if self.balance < amount:\n",
    "      print('your balance issuficient')\n",
    "    else: \n",
    "      self.balance -= amount\n",
    "\n",
    "  def balance_check(self):\n",
    "    print('---------[balance]---------')\n",
    "    print(f'bank    : {self.bank.name}')\n",
    "    print(f'id      : {self._account_number}')\n",
    "    print(f'balance : $ {self.balance}')\n",
    "    print('---------------------------')\n",
    "\n",
    "\n",
    "class Customer:\n",
    "  def __init__(self, name: str, age: int, address: str):\n",
    "    self.name = name\n",
    "    self.age = age\n",
    "    self.address = address\n",
    "    self.bank_accounts = []\n",
    "\n",
    "  def add_bank_account(self, new_account: BankAccount):\n",
    "    self.bank_accounts.append(new_account)\n",
    "\n",
    "  def display_bank_accounts(self):\n",
    "    for account in self.bank_accounts:\n",
    "      print(f'name: {self.name}')\n",
    "      print(f'bank: {account.bank.name}')\n",
    "      print(f'id  : {account._account_number}')\n",
    "      print('---------------------------')\n",
    "\n",
    "  def choose_account(self, account_number) -> BankAccount:\n",
    "    for account in self.bank_accounts:\n",
    "      if account._account_number == account_number:\n",
    "        return account\n",
    "\n",
    "  \n",
    "  \n",
    "bri_bank = Bank('Bank BRI')\n",
    "bca_bank = Bank('Bank BCA')\n",
    "\n",
    "rk = Customer('rudi', 26, 'boyolali')\n",
    "rk.add_bank_account(BankAccount(bri_bank))\n",
    "rk.add_bank_account(BankAccount(bca_bank))\n",
    "rk.add_bank_account(BankAccount(Bank('Bank Mandiri')))\n",
    "\n",
    "my_accounts = rk.display_bank_accounts()\n",
    "\n",
    "\n",
    "\n",
    "  \n"
   ]
  }
 ],
 "metadata": {
  "kernelspec": {
   "display_name": ".venv",
   "language": "python",
   "name": "python3"
  },
  "language_info": {
   "codemirror_mode": {
    "name": "ipython",
    "version": 3
   },
   "file_extension": ".py",
   "mimetype": "text/x-python",
   "name": "python",
   "nbconvert_exporter": "python",
   "pygments_lexer": "ipython3",
   "version": "3.12.7"
  }
 },
 "nbformat": 4,
 "nbformat_minor": 2
}
